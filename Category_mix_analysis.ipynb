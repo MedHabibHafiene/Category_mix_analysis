{
 "cells": [
  {
   "cell_type": "code",
   "execution_count": null,
   "id": "69457820",
   "metadata": {},
   "outputs": [],
   "source": [
    "from bs4 import BeautifulSoup\n",
    "import requests\n",
    "import pandas as pd\n",
    "url='https://www.jolybeautyofficial.com/'"
   ]
  },
  {
   "cell_type": "code",
   "execution_count": null,
   "id": "1a870ae8",
   "metadata": {},
   "outputs": [],
   "source": [
    "response= requests.get(url)\n",
    "html=response.text\n",
    "soup=BeautifulSoup(html)"
   ]
  },
  {
   "cell_type": "code",
   "execution_count": null,
   "id": "61a0e6cb",
   "metadata": {},
   "outputs": [],
   "source": [
    "categories=soup.findAll(\"ul\",{\"class\":\"header__submenu list-menu list-menu--disclosure list-menu--disclosure-1 caption-large motion-reduce\"})\n",
    "len(categories)"
   ]
  },
  {
   "cell_type": "code",
   "execution_count": null,
   "id": "c926f3e0",
   "metadata": {},
   "outputs": [],
   "source": [
    "master_list=[]\n",
    "sub_categ_list=[]\n",
    "list_2=[]\n",
    "for item in categories:\n",
    "    categories_dict={}\n",
    "    list_=item.text.replace(\"\\n\", \"\").replace(\" \", \"\").replace(\"\\r\\r\", \"\\r\")[1:-1].split(\"\\r\")\n",
    "    list_2.append(list_[0])\n",
    "    items=list_[2:]\n",
    "    nb=1\n",
    "\n",
    "    sub_categ_dict={}\n",
    "    for i in items:\n",
    "        sub_categ_dict[i]=\"https://www.jolybeautyofficial.com\"+item.findAll(\"a\")[nb][\"href\"]\n",
    "\n",
    "        nb +=1\n",
    "        categories_dict[list_[0]]=items\n",
    "\n",
    "\n",
    "    sub_categ_list.append(sub_categ_dict)\n",
    "\n",
    "for i in range(5):\n",
    "    dict_={}\n",
    "    dict_[list_2[i]]=sub_categ_list[i]\n",
    "    master_list.append(dict_)\n"
   ]
  },
  {
   "cell_type": "code",
   "execution_count": null,
   "id": "828c8a8e",
   "metadata": {},
   "outputs": [],
   "source": [
    "\n",
    "master_list[0]"
   ]
  },
  {
   "cell_type": "code",
   "execution_count": null,
   "id": "bd19d68e",
   "metadata": {},
   "outputs": [],
   "source": [
    "products_list = []\n",
    "prod_categ = {}\n",
    "\n",
    "for prod in master_list:\n",
    "    for category, value in prod.items():\n",
    "        for sub_cate, product_url in value.items():\n",
    "            response_product = requests.get(product_url)\n",
    "            html_product = response_product.text  \n",
    "            soup_product = BeautifulSoup(html_product, \"html.parser\")  \n",
    "\n",
    "            products = soup_product.findAll(\"li\", {\"class\": \"product\"})\n",
    "\n",
    "            for prod in products:\n",
    "                dict_ = {}\n",
    "                product_brand = prod.find(\"div\", {\"class\": \"card-vendor\"}).find(\"a\").text\n",
    "                product_name = prod.find(\"a\", {\"class\": \"card-title link-underline card-title-ellipsis\"}).text.strip()\n",
    "                product_price = prod.find(\"div\", {\"class\": \"price\"}).find(\"span\", {\"class\": \"price-item\"}).text.strip()\n",
    "\n",
    "                dict_[\"Brand\"] = product_brand\n",
    "                dict_[\"Category\"] = category\n",
    "                dict_[\"Subcategory\"] = sub_cate\n",
    "                dict_[\"Product name\"] = product_name\n",
    "                dict_[\"Price\"] = product_price\n",
    "\n",
    "                products_list.append(dict_)\n",
    "\n",
    "            prod_categ.setdefault(sub_cate, []).extend(products_list)  \n",
    "\n"
   ]
  },
  {
   "cell_type": "code",
   "execution_count": null,
   "id": "f770be29",
   "metadata": {},
   "outputs": [],
   "source": [
    "df = pd.DataFrame(products_list)\n",
    "df.to_excel(\"Category_mix_analysis.xlsx\", index=False)"
   ]
  },
  {
   "cell_type": "code",
   "execution_count": null,
   "id": "9bc6d744",
   "metadata": {},
   "outputs": [],
   "source": [
    "products_list\n",
    "\n"
   ]
  }
 ],
 "metadata": {
  "kernelspec": {
   "display_name": "Python 3 (ipykernel)",
   "language": "python",
   "name": "python3"
  },
  "language_info": {
   "codemirror_mode": {
    "name": "ipython",
    "version": 3
   },
   "file_extension": ".py",
   "mimetype": "text/x-python",
   "name": "python",
   "nbconvert_exporter": "python",
   "pygments_lexer": "ipython3",
   "version": "3.10.1"
  }
 },
 "nbformat": 4,
 "nbformat_minor": 5
}
